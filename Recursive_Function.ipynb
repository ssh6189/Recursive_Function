{
 "cells": [
  {
   "cell_type": "markdown",
   "metadata": {},
   "source": [
    "<H1>1. 팩토리얼</H1>\n",
    "\n",
    "<H1>0보다 크거나 같은 정수 N이 주어진다. 이때, N!을 출력하는 프로그램을 작성하시오.</H1>\n",
    "\n",
    "<H1>첫째 줄에 정수 N(0 ≤ N ≤ 12)가 주어진다.</H1>"
   ]
  },
  {
   "cell_type": "code",
   "execution_count": 5,
   "metadata": {},
   "outputs": [
    {
     "name": "stdout",
     "output_type": "stream",
     "text": [
      "10\n",
      "3628800\n"
     ]
    }
   ],
   "source": [
    "def factorial(n):\n",
    "    if(n==1):\n",
    "        return n\n",
    "    else:\n",
    "        return n * factorial(n-1)\n",
    "    \n",
    "n = int(input(\"\"))\n",
    "\n",
    "result = factorial(n)\n",
    "\n",
    "print(result)"
   ]
  },
  {
   "cell_type": "markdown",
   "metadata": {},
   "source": [
    "<H1>2. 피보나치 수는 0과 1로 시작한다. 0번째 피보나치 수는 0이고, </H1>\n",
    "    \n",
    "<H1>1번째 피보나치 수는 1이다. </H1>\n",
    "    \n",
    "<H1>그 다음 2번째 부터는 바로 앞 두 피보나치 수의 합이 된다.</H1>\n",
    "\n",
    "<H1>이를 식으로 써보면 Fn = Fn-1 + Fn-2 (n>=2)가 된다.</H1>\n",
    "\n",
    "<H1>n=17일때 까지 피보나치 수를 써보면 다음과 같다.</H1>\n",
    "\n",
    "<H1>0, 1, 1, 2, 3, 5, 8, 13, 21, 34, 55, 89, 144, 233, 377, 610, 987, 1597</H1>\n",
    "\n",
    "<H1>n이 주어졌을 때, n번째 피보나치 수를 구하는 프로그램을 작성하시오.</H1>"
   ]
  },
  {
   "cell_type": "code",
   "execution_count": 12,
   "metadata": {},
   "outputs": [
    {
     "name": "stdout",
     "output_type": "stream",
     "text": [
      "10\n",
      "55\n"
     ]
    }
   ],
   "source": [
    "def fibo(n):\n",
    "    if n == 0 or n == 1:\n",
    "        return 1\n",
    "    return fibo(n-2) + fibo(n-1)\n",
    "\n",
    "n = int(input(\"\"))\n",
    "\n",
    "print(fibo(n-1))"
   ]
  }
 ],
 "metadata": {
  "kernelspec": {
   "display_name": "Python 3",
   "language": "python",
   "name": "python3"
  },
  "language_info": {
   "codemirror_mode": {
    "name": "ipython",
    "version": 3
   },
   "file_extension": ".py",
   "mimetype": "text/x-python",
   "name": "python",
   "nbconvert_exporter": "python",
   "pygments_lexer": "ipython3",
   "version": "3.7.4"
  }
 },
 "nbformat": 4,
 "nbformat_minor": 2
}
